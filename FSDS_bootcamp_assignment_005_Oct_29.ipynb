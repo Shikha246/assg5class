{
 "cells": [
  {
   "cell_type": "markdown",
   "id": "ff3f7bbf",
   "metadata": {},
   "source": [
    "## 1.write a function which will try to find out the len of a string without using inbuilt len function"
   ]
  },
  {
   "cell_type": "code",
   "execution_count": 6,
   "id": "ebc67d3b",
   "metadata": {},
   "outputs": [
    {
     "name": "stdout",
     "output_type": "stream",
     "text": [
      "enter a string:krishna\n",
      "length of the string krishna is 7\n"
     ]
    }
   ],
   "source": [
    "def my_len(my_string):\n",
    "\n",
    "    count=0\n",
    "    for i in my_string:\n",
    "        count=count+1\n",
    "    return count\n",
    "my_input=input(\"enter a string:\")\n",
    "my_len(my_input)\n",
    "print(f\"length of the string {my_input} is {my_len(my_input)}\")"
   ]
  },
  {
   "cell_type": "markdown",
   "id": "97721424",
   "metadata": {},
   "source": [
    "## 2 write a function which will be able to print an index of list element without using index function"
   ]
  },
  {
   "cell_type": "code",
   "execution_count": 10,
   "id": "1187331d",
   "metadata": {},
   "outputs": [
    {
     "name": "stdout",
     "output_type": "stream",
     "text": [
      "['shikha', 'sia', 'riya', 'parvati', 'shubham']\n",
      "Enter the name from the given list:sia\n",
      "sia is at index value 1\n"
     ]
    }
   ],
   "source": [
    "\n",
    "def my_index(my_list,input_name):\n",
    "    #if input_name in my_list:\n",
    "        count=0\n",
    "        for a in my_list:\n",
    "            if a!= input_name:\n",
    "                count+=1\n",
    "            else:\n",
    "                break\n",
    "            #print(f\"The name {input_name} is at index {count}\")\n",
    "    #else:\n",
    "        #print(f\"The name {input_name} is not int list{list1}\")\n",
    "        return count\n",
    "\n",
    "list1=[\"shikha\",\"sia\",\"riya\",\"parvati\",\"shubham\"]\n",
    "print(list1)\n",
    "input_name=input(\"Enter the name from the given list:\")\n",
    "print(f\"{input_name} is at index value {my_index(list1,input_name)}\")"
   ]
  },
  {
   "cell_type": "markdown",
   "id": "e78581f5",
   "metadata": {},
   "source": [
    "## 3. write a function which wll be able to print an ip address of your system."
   ]
  },
  {
   "cell_type": "markdown",
   "id": "737bf59c",
   "metadata": {},
   "source": [
    "## 4.write a function to shutdown your system."
   ]
  },
  {
   "cell_type": "code",
   "execution_count": 19,
   "id": "13b06831",
   "metadata": {},
   "outputs": [
    {
     "name": "stdout",
     "output_type": "stream",
     "text": [
      "shutdown your computer? (y or no):y\n"
     ]
    }
   ],
   "source": [
    "import os\n",
    "def my_shutdown(choice):\n",
    "    if choice=='y' or choice == 'Y':\n",
    "        os.system(\"shutdown /s /t 30\")\n",
    "    else:\n",
    "        print(\"Exiting the program\")\n",
    "choice=input(\"shutdown your computer? (y or no):\")\n",
    "my_shutdown(choice)"
   ]
  },
  {
   "cell_type": "markdown",
   "id": "8328c418",
   "metadata": {},
   "source": [
    "##  5. Write a function which will take input as a list with any kind of numberic value and give an out which will be the multiplication of all the numeric data\n",
    "l=[3.5,6.56,4,5,\"sudh\",\"ineuron\",\"fsds\"]"
   ]
  },
  {
   "cell_type": "code",
   "execution_count": 11,
   "id": "dca60206",
   "metadata": {},
   "outputs": [
    {
     "name": "stdout",
     "output_type": "stream",
     "text": [
      "Enter the length of list:4\n",
      "Enter a number1:2\n",
      "Enter a number2:3\n",
      "Enter a number3:4\n",
      "Enter a number4:5\n",
      "[2, 3, 4, 5]\n",
      "The multiplication of all the values in list is 120\n"
     ]
    }
   ],
   "source": [
    "def my_mul(mylist):\n",
    "    mul=1\n",
    "    for i in mylist:\n",
    "        mul=mul*i\n",
    "    return mul\n",
    "        \n",
    "\n",
    "length=int(input(\"Enter the length of list:\"))\n",
    "my_list=list()\n",
    "for i in range(1,length+1):\n",
    "    my_input=int(input(f\"Enter a number{i}:\"))\n",
    "    \n",
    "    my_list.append(my_input)\n",
    "print(my_list)\n",
    "print(f\"The multiplication of all the values in list is {my_mul(my_list)}\")"
   ]
  },
  {
   "cell_type": "markdown",
   "id": "83fdf485",
   "metadata": {},
   "source": [
    "## 6. write a function which will be able to read all the mails."
   ]
  },
  {
   "cell_type": "markdown",
   "id": "526d7fff",
   "metadata": {},
   "source": [
    "## 7. write a function which will be able to send a mail to anyone."
   ]
  },
  {
   "cell_type": "markdown",
   "id": "579a843d",
   "metadata": {},
   "source": [
    "## 8. write a function which will be able to read a doc/word file from your system"
   ]
  },
  {
   "cell_type": "markdown",
   "id": "af86f494",
   "metadata": {},
   "source": [
    "send to:query@ineuron.ai"
   ]
  },
  {
   "cell_type": "code",
   "execution_count": null,
   "id": "623cf9ea",
   "metadata": {},
   "outputs": [],
   "source": []
  }
 ],
 "metadata": {
  "kernelspec": {
   "display_name": "Python 3 (ipykernel)",
   "language": "python",
   "name": "python3"
  },
  "language_info": {
   "codemirror_mode": {
    "name": "ipython",
    "version": 3
   },
   "file_extension": ".py",
   "mimetype": "text/x-python",
   "name": "python",
   "nbconvert_exporter": "python",
   "pygments_lexer": "ipython3",
   "version": "3.9.7"
  }
 },
 "nbformat": 4,
 "nbformat_minor": 5
}
